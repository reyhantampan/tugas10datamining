{
 "cells": [
  {
   "cell_type": "code",
   "execution_count": 2,
   "metadata": {},
   "outputs": [],
   "source": [
    "import matplotlib.pyplot as plt\n",
    "import numpy as numpy\n",
    "import pandas as pd\n",
    "from sklearn.cluster import KMeans\n"
   ]
  },
  {
   "cell_type": "code",
   "execution_count": 3,
   "metadata": {},
   "outputs": [
    {
     "data": {
      "text/plain": [
       "Index(['Id', 'SepalLengthCm', 'SepalWidthCm', 'PetalLengthCm', 'PetalWidthCm',\n",
       "       'Species'],\n",
       "      dtype='object')"
      ]
     },
     "execution_count": 3,
     "metadata": {},
     "output_type": "execute_result"
    }
   ],
   "source": [
    "dataset = pd.read_csv('Iris.csv')\n",
    "dataset.keys()\n"
   ]
  },
  {
   "cell_type": "code",
   "execution_count": 4,
   "metadata": {},
   "outputs": [
    {
     "data": {
      "text/html": [
       "<div>\n",
       "<style scoped>\n",
       "    .dataframe tbody tr th:only-of-type {\n",
       "        vertical-align: middle;\n",
       "    }\n",
       "\n",
       "    .dataframe tbody tr th {\n",
       "        vertical-align: top;\n",
       "    }\n",
       "\n",
       "    .dataframe thead th {\n",
       "        text-align: right;\n",
       "    }\n",
       "</style>\n",
       "<table border=\"1\" class=\"dataframe\">\n",
       "  <thead>\n",
       "    <tr style=\"text-align: right;\">\n",
       "      <th></th>\n",
       "      <th>Id</th>\n",
       "      <th>SepalLengthCm</th>\n",
       "      <th>SepalWidthCm</th>\n",
       "      <th>PetalLengthCm</th>\n",
       "      <th>PetalWidthCm</th>\n",
       "      <th>Species</th>\n",
       "    </tr>\n",
       "  </thead>\n",
       "  <tbody>\n",
       "    <tr>\n",
       "      <th>0</th>\n",
       "      <td>1</td>\n",
       "      <td>5.1</td>\n",
       "      <td>3.5</td>\n",
       "      <td>1.4</td>\n",
       "      <td>0.2</td>\n",
       "      <td>Iris-setosa</td>\n",
       "    </tr>\n",
       "    <tr>\n",
       "      <th>1</th>\n",
       "      <td>2</td>\n",
       "      <td>4.9</td>\n",
       "      <td>3.0</td>\n",
       "      <td>1.4</td>\n",
       "      <td>0.2</td>\n",
       "      <td>Iris-setosa</td>\n",
       "    </tr>\n",
       "    <tr>\n",
       "      <th>2</th>\n",
       "      <td>3</td>\n",
       "      <td>4.7</td>\n",
       "      <td>3.2</td>\n",
       "      <td>1.3</td>\n",
       "      <td>0.2</td>\n",
       "      <td>Iris-setosa</td>\n",
       "    </tr>\n",
       "    <tr>\n",
       "      <th>3</th>\n",
       "      <td>4</td>\n",
       "      <td>4.6</td>\n",
       "      <td>3.1</td>\n",
       "      <td>1.5</td>\n",
       "      <td>0.2</td>\n",
       "      <td>Iris-setosa</td>\n",
       "    </tr>\n",
       "    <tr>\n",
       "      <th>4</th>\n",
       "      <td>5</td>\n",
       "      <td>5.0</td>\n",
       "      <td>3.6</td>\n",
       "      <td>1.4</td>\n",
       "      <td>0.2</td>\n",
       "      <td>Iris-setosa</td>\n",
       "    </tr>\n",
       "  </tbody>\n",
       "</table>\n",
       "</div>"
      ],
      "text/plain": [
       "   Id  SepalLengthCm  SepalWidthCm  PetalLengthCm  PetalWidthCm      Species\n",
       "0   1            5.1           3.5            1.4           0.2  Iris-setosa\n",
       "1   2            4.9           3.0            1.4           0.2  Iris-setosa\n",
       "2   3            4.7           3.2            1.3           0.2  Iris-setosa\n",
       "3   4            4.6           3.1            1.5           0.2  Iris-setosa\n",
       "4   5            5.0           3.6            1.4           0.2  Iris-setosa"
      ]
     },
     "execution_count": 4,
     "metadata": {},
     "output_type": "execute_result"
    }
   ],
   "source": [
    "dataku = pd.DataFrame(dataset)\n",
    "dataku.head()"
   ]
  },
  {
   "cell_type": "code",
   "execution_count": 6,
   "metadata": {},
   "outputs": [
    {
     "name": "stdout",
     "output_type": "stream",
     "text": [
      "[[1 5.1 3.5 1.4 0.2 'Iris-setosa']\n",
      " [2 4.9 3.0 1.4 0.2 'Iris-setosa']\n",
      " [3 4.7 3.2 1.3 0.2 'Iris-setosa']\n",
      " [4 4.6 3.1 1.5 0.2 'Iris-setosa']\n",
      " [5 5.0 3.6 1.4 0.2 'Iris-setosa']\n",
      " [6 5.4 3.9 1.7 0.4 'Iris-setosa']\n",
      " [7 4.6 3.4 1.4 0.3 'Iris-setosa']\n",
      " [8 5.0 3.4 1.5 0.2 'Iris-setosa']\n",
      " [9 4.4 2.9 1.4 0.2 'Iris-setosa']\n",
      " [10 4.9 3.1 1.5 0.1 'Iris-setosa']\n",
      " [11 5.4 3.7 1.5 0.2 'Iris-setosa']\n",
      " [12 4.8 3.4 1.6 0.2 'Iris-setosa']\n",
      " [13 4.8 3.0 1.4 0.1 'Iris-setosa']\n",
      " [14 4.3 3.0 1.1 0.1 'Iris-setosa']\n",
      " [15 5.8 4.0 1.2 0.2 'Iris-setosa']\n",
      " [16 5.7 4.4 1.5 0.4 'Iris-setosa']\n",
      " [17 5.4 3.9 1.3 0.4 'Iris-setosa']\n",
      " [18 5.1 3.5 1.4 0.3 'Iris-setosa']\n",
      " [19 5.7 3.8 1.7 0.3 'Iris-setosa']\n",
      " [20 5.1 3.8 1.5 0.3 'Iris-setosa']\n",
      " [21 5.4 3.4 1.7 0.2 'Iris-setosa']\n",
      " [22 5.1 3.7 1.5 0.4 'Iris-setosa']\n",
      " [23 4.6 3.6 1.0 0.2 'Iris-setosa']\n",
      " [24 5.1 3.3 1.7 0.5 'Iris-setosa']\n",
      " [25 4.8 3.4 1.9 0.2 'Iris-setosa']\n",
      " [26 5.0 3.0 1.6 0.2 'Iris-setosa']\n",
      " [27 5.0 3.4 1.6 0.4 'Iris-setosa']\n",
      " [28 5.2 3.5 1.5 0.2 'Iris-setosa']\n",
      " [29 5.2 3.4 1.4 0.2 'Iris-setosa']\n",
      " [30 4.7 3.2 1.6 0.2 'Iris-setosa']\n",
      " [31 4.8 3.1 1.6 0.2 'Iris-setosa']\n",
      " [32 5.4 3.4 1.5 0.4 'Iris-setosa']\n",
      " [33 5.2 4.1 1.5 0.1 'Iris-setosa']\n",
      " [34 5.5 4.2 1.4 0.2 'Iris-setosa']\n",
      " [35 4.9 3.1 1.5 0.1 'Iris-setosa']\n",
      " [36 5.0 3.2 1.2 0.2 'Iris-setosa']\n",
      " [37 5.5 3.5 1.3 0.2 'Iris-setosa']\n",
      " [38 4.9 3.1 1.5 0.1 'Iris-setosa']\n",
      " [39 4.4 3.0 1.3 0.2 'Iris-setosa']\n",
      " [40 5.1 3.4 1.5 0.2 'Iris-setosa']\n",
      " [41 5.0 3.5 1.3 0.3 'Iris-setosa']\n",
      " [42 4.5 2.3 1.3 0.3 'Iris-setosa']\n",
      " [43 4.4 3.2 1.3 0.2 'Iris-setosa']\n",
      " [44 5.0 3.5 1.6 0.6 'Iris-setosa']\n",
      " [45 5.1 3.8 1.9 0.4 'Iris-setosa']\n",
      " [46 4.8 3.0 1.4 0.3 'Iris-setosa']\n",
      " [47 5.1 3.8 1.6 0.2 'Iris-setosa']\n",
      " [48 4.6 3.2 1.4 0.2 'Iris-setosa']\n",
      " [49 5.3 3.7 1.5 0.2 'Iris-setosa']\n",
      " [50 5.0 3.3 1.4 0.2 'Iris-setosa']\n",
      " [51 7.0 3.2 4.7 1.4 'Iris-versicolor']\n",
      " [52 6.4 3.2 4.5 1.5 'Iris-versicolor']\n",
      " [53 6.9 3.1 4.9 1.5 'Iris-versicolor']\n",
      " [54 5.5 2.3 4.0 1.3 'Iris-versicolor']\n",
      " [55 6.5 2.8 4.6 1.5 'Iris-versicolor']\n",
      " [56 5.7 2.8 4.5 1.3 'Iris-versicolor']\n",
      " [57 6.3 3.3 4.7 1.6 'Iris-versicolor']\n",
      " [58 4.9 2.4 3.3 1.0 'Iris-versicolor']\n",
      " [59 6.6 2.9 4.6 1.3 'Iris-versicolor']\n",
      " [60 5.2 2.7 3.9 1.4 'Iris-versicolor']\n",
      " [61 5.0 2.0 3.5 1.0 'Iris-versicolor']\n",
      " [62 5.9 3.0 4.2 1.5 'Iris-versicolor']\n",
      " [63 6.0 2.2 4.0 1.0 'Iris-versicolor']\n",
      " [64 6.1 2.9 4.7 1.4 'Iris-versicolor']\n",
      " [65 5.6 2.9 3.6 1.3 'Iris-versicolor']\n",
      " [66 6.7 3.1 4.4 1.4 'Iris-versicolor']\n",
      " [67 5.6 3.0 4.5 1.5 'Iris-versicolor']\n",
      " [68 5.8 2.7 4.1 1.0 'Iris-versicolor']\n",
      " [69 6.2 2.2 4.5 1.5 'Iris-versicolor']\n",
      " [70 5.6 2.5 3.9 1.1 'Iris-versicolor']\n",
      " [71 5.9 3.2 4.8 1.8 'Iris-versicolor']\n",
      " [72 6.1 2.8 4.0 1.3 'Iris-versicolor']\n",
      " [73 6.3 2.5 4.9 1.5 'Iris-versicolor']\n",
      " [74 6.1 2.8 4.7 1.2 'Iris-versicolor']\n",
      " [75 6.4 2.9 4.3 1.3 'Iris-versicolor']\n",
      " [76 6.6 3.0 4.4 1.4 'Iris-versicolor']\n",
      " [77 6.8 2.8 4.8 1.4 'Iris-versicolor']\n",
      " [78 6.7 3.0 5.0 1.7 'Iris-versicolor']\n",
      " [79 6.0 2.9 4.5 1.5 'Iris-versicolor']\n",
      " [80 5.7 2.6 3.5 1.0 'Iris-versicolor']\n",
      " [81 5.5 2.4 3.8 1.1 'Iris-versicolor']\n",
      " [82 5.5 2.4 3.7 1.0 'Iris-versicolor']\n",
      " [83 5.8 2.7 3.9 1.2 'Iris-versicolor']\n",
      " [84 6.0 2.7 5.1 1.6 'Iris-versicolor']\n",
      " [85 5.4 3.0 4.5 1.5 'Iris-versicolor']\n",
      " [86 6.0 3.4 4.5 1.6 'Iris-versicolor']\n",
      " [87 6.7 3.1 4.7 1.5 'Iris-versicolor']\n",
      " [88 6.3 2.3 4.4 1.3 'Iris-versicolor']\n",
      " [89 5.6 3.0 4.1 1.3 'Iris-versicolor']\n",
      " [90 5.5 2.5 4.0 1.3 'Iris-versicolor']\n",
      " [91 5.5 2.6 4.4 1.2 'Iris-versicolor']\n",
      " [92 6.1 3.0 4.6 1.4 'Iris-versicolor']\n",
      " [93 5.8 2.6 4.0 1.2 'Iris-versicolor']\n",
      " [94 5.0 2.3 3.3 1.0 'Iris-versicolor']\n",
      " [95 5.6 2.7 4.2 1.3 'Iris-versicolor']\n",
      " [96 5.7 3.0 4.2 1.2 'Iris-versicolor']\n",
      " [97 5.7 2.9 4.2 1.3 'Iris-versicolor']\n",
      " [98 6.2 2.9 4.3 1.3 'Iris-versicolor']\n",
      " [99 5.1 2.5 3.0 1.1 'Iris-versicolor']\n",
      " [100 5.7 2.8 4.1 1.3 'Iris-versicolor']\n",
      " [101 6.3 3.3 6.0 2.5 'Iris-virginica']\n",
      " [102 5.8 2.7 5.1 1.9 'Iris-virginica']\n",
      " [103 7.1 3.0 5.9 2.1 'Iris-virginica']\n",
      " [104 6.3 2.9 5.6 1.8 'Iris-virginica']\n",
      " [105 6.5 3.0 5.8 2.2 'Iris-virginica']\n",
      " [106 7.6 3.0 6.6 2.1 'Iris-virginica']\n",
      " [107 4.9 2.5 4.5 1.7 'Iris-virginica']\n",
      " [108 7.3 2.9 6.3 1.8 'Iris-virginica']\n",
      " [109 6.7 2.5 5.8 1.8 'Iris-virginica']\n",
      " [110 7.2 3.6 6.1 2.5 'Iris-virginica']\n",
      " [111 6.5 3.2 5.1 2.0 'Iris-virginica']\n",
      " [112 6.4 2.7 5.3 1.9 'Iris-virginica']\n",
      " [113 6.8 3.0 5.5 2.1 'Iris-virginica']\n",
      " [114 5.7 2.5 5.0 2.0 'Iris-virginica']\n",
      " [115 5.8 2.8 5.1 2.4 'Iris-virginica']\n",
      " [116 6.4 3.2 5.3 2.3 'Iris-virginica']\n",
      " [117 6.5 3.0 5.5 1.8 'Iris-virginica']\n",
      " [118 7.7 3.8 6.7 2.2 'Iris-virginica']\n",
      " [119 7.7 2.6 6.9 2.3 'Iris-virginica']\n",
      " [120 6.0 2.2 5.0 1.5 'Iris-virginica']\n",
      " [121 6.9 3.2 5.7 2.3 'Iris-virginica']\n",
      " [122 5.6 2.8 4.9 2.0 'Iris-virginica']\n",
      " [123 7.7 2.8 6.7 2.0 'Iris-virginica']\n",
      " [124 6.3 2.7 4.9 1.8 'Iris-virginica']\n",
      " [125 6.7 3.3 5.7 2.1 'Iris-virginica']\n",
      " [126 7.2 3.2 6.0 1.8 'Iris-virginica']\n",
      " [127 6.2 2.8 4.8 1.8 'Iris-virginica']\n",
      " [128 6.1 3.0 4.9 1.8 'Iris-virginica']\n",
      " [129 6.4 2.8 5.6 2.1 'Iris-virginica']\n",
      " [130 7.2 3.0 5.8 1.6 'Iris-virginica']\n",
      " [131 7.4 2.8 6.1 1.9 'Iris-virginica']\n",
      " [132 7.9 3.8 6.4 2.0 'Iris-virginica']\n",
      " [133 6.4 2.8 5.6 2.2 'Iris-virginica']\n",
      " [134 6.3 2.8 5.1 1.5 'Iris-virginica']\n",
      " [135 6.1 2.6 5.6 1.4 'Iris-virginica']\n",
      " [136 7.7 3.0 6.1 2.3 'Iris-virginica']\n",
      " [137 6.3 3.4 5.6 2.4 'Iris-virginica']\n",
      " [138 6.4 3.1 5.5 1.8 'Iris-virginica']\n",
      " [139 6.0 3.0 4.8 1.8 'Iris-virginica']\n",
      " [140 6.9 3.1 5.4 2.1 'Iris-virginica']\n",
      " [141 6.7 3.1 5.6 2.4 'Iris-virginica']\n",
      " [142 6.9 3.1 5.1 2.3 'Iris-virginica']\n",
      " [143 5.8 2.7 5.1 1.9 'Iris-virginica']\n",
      " [144 6.8 3.2 5.9 2.3 'Iris-virginica']\n",
      " [145 6.7 3.3 5.7 2.5 'Iris-virginica']\n",
      " [146 6.7 3.0 5.2 2.3 'Iris-virginica']\n",
      " [147 6.3 2.5 5.0 1.9 'Iris-virginica']\n",
      " [148 6.5 3.0 5.2 2.0 'Iris-virginica']\n",
      " [149 6.2 3.4 5.4 2.3 'Iris-virginica']\n",
      " [150 5.9 3.0 5.1 1.8 'Iris-virginica']]\n"
     ]
    }
   ],
   "source": [
    "X = numpy.asarray(dataset)\n",
    "print(X)"
   ]
  },
  {
   "cell_type": "code",
   "execution_count": 9,
   "metadata": {},
   "outputs": [
    {
     "data": {
      "image/png": "[encoded data removed]",
      "text/plain": [
       "<Figure size 640x480 with 1 Axes>"
      ]
     },
     "metadata": {},
     "output_type": "display_data"
    }
   ],
   "source": [
    "plt.scatter(X[:,0], X[:,1], label='True Position')\n",
    "plt.xlabel(\"Id\")\n",
    "plt.ylabel(\"Sepal Length Cm\")\n",
    "plt.title(\"Iris Species\")\n",
    "plt.show()"
   ]
  },
  {
   "cell_type": "code",
   "execution_count": 28,
   "metadata": {},
   "outputs": [
    {
     "ename": "ValueError",
     "evalue": "could not convert string to float: 'Iris-setosa'",
     "output_type": "error",
     "traceback": [
      "\u001b[1;31m---------------------------------------------------------------------------\u001b[0m",
      "\u001b[1;31mValueError\u001b[0m                                Traceback (most recent call last)",
      "Cell \u001b[1;32mIn[28], line 2\u001b[0m\n\u001b[0;32m      1\u001b[0m kmeans \u001b[39m=\u001b[39m KMeans(n_clusters\u001b[39m=\u001b[39m\u001b[39m2\u001b[39m)\n\u001b[1;32m----> 2\u001b[0m kmeans\u001b[39m.\u001b[39;49mfit(X)\n",
      "File \u001b[1;32mc:\\Users\\Reyhan\\AppData\\Local\\Programs\\Python\\Python39\\lib\\site-packages\\sklearn\\cluster\\_kmeans.py:1417\u001b[0m, in \u001b[0;36mKMeans.fit\u001b[1;34m(self, X, y, sample_weight)\u001b[0m\n\u001b[0;32m   1390\u001b[0m \u001b[39m\"\"\"Compute k-means clustering.\u001b[39;00m\n\u001b[0;32m   1391\u001b[0m \n\u001b[0;32m   1392\u001b[0m \u001b[39mParameters\u001b[39;00m\n\u001b[1;32m   (...)\u001b[0m\n\u001b[0;32m   1413\u001b[0m \u001b[39m    Fitted estimator.\u001b[39;00m\n\u001b[0;32m   1414\u001b[0m \u001b[39m\"\"\"\u001b[39;00m\n\u001b[0;32m   1415\u001b[0m \u001b[39mself\u001b[39m\u001b[39m.\u001b[39m_validate_params()\n\u001b[1;32m-> 1417\u001b[0m X \u001b[39m=\u001b[39m \u001b[39mself\u001b[39;49m\u001b[39m.\u001b[39;49m_validate_data(\n\u001b[0;32m   1418\u001b[0m     X,\n\u001b[0;32m   1419\u001b[0m     accept_sparse\u001b[39m=\u001b[39;49m\u001b[39m\"\u001b[39;49m\u001b[39mcsr\u001b[39;49m\u001b[39m\"\u001b[39;49m,\n\u001b[0;32m   1420\u001b[0m     dtype\u001b[39m=\u001b[39;49m[np\u001b[39m.\u001b[39;49mfloat64, np\u001b[39m.\u001b[39;49mfloat32],\n\u001b[0;32m   1421\u001b[0m     order\u001b[39m=\u001b[39;49m\u001b[39m\"\u001b[39;49m\u001b[39mC\u001b[39;49m\u001b[39m\"\u001b[39;49m,\n\u001b[0;32m   1422\u001b[0m     copy\u001b[39m=\u001b[39;49m\u001b[39mself\u001b[39;49m\u001b[39m.\u001b[39;49mcopy_x,\n\u001b[0;32m   1423\u001b[0m     accept_large_sparse\u001b[39m=\u001b[39;49m\u001b[39mFalse\u001b[39;49;00m,\n\u001b[0;32m   1424\u001b[0m )\n\u001b[0;32m   1426\u001b[0m \u001b[39mself\u001b[39m\u001b[39m.\u001b[39m_check_params_vs_input(X)\n\u001b[0;32m   1428\u001b[0m random_state \u001b[39m=\u001b[39m check_random_state(\u001b[39mself\u001b[39m\u001b[39m.\u001b[39mrandom_state)\n",
      "File \u001b[1;32mc:\\Users\\Reyhan\\AppData\\Local\\Programs\\Python\\Python39\\lib\\site-packages\\sklearn\\base.py:535\u001b[0m, in \u001b[0;36mBaseEstimator._validate_data\u001b[1;34m(self, X, y, reset, validate_separately, **check_params)\u001b[0m\n\u001b[0;32m    533\u001b[0m     \u001b[39mraise\u001b[39;00m \u001b[39mValueError\u001b[39;00m(\u001b[39m\"\u001b[39m\u001b[39mValidation should be done on X, y or both.\u001b[39m\u001b[39m\"\u001b[39m)\n\u001b[0;32m    534\u001b[0m \u001b[39melif\u001b[39;00m \u001b[39mnot\u001b[39;00m no_val_X \u001b[39mand\u001b[39;00m no_val_y:\n\u001b[1;32m--> 535\u001b[0m     X \u001b[39m=\u001b[39m check_array(X, input_name\u001b[39m=\u001b[39m\u001b[39m\"\u001b[39m\u001b[39mX\u001b[39m\u001b[39m\"\u001b[39m, \u001b[39m*\u001b[39m\u001b[39m*\u001b[39mcheck_params)\n\u001b[0;32m    536\u001b[0m     out \u001b[39m=\u001b[39m X\n\u001b[0;32m    537\u001b[0m \u001b[39melif\u001b[39;00m no_val_X \u001b[39mand\u001b[39;00m \u001b[39mnot\u001b[39;00m no_val_y:\n",
      "File \u001b[1;32mc:\\Users\\Reyhan\\AppData\\Local\\Programs\\Python\\Python39\\lib\\site-packages\\sklearn\\utils\\validation.py:877\u001b[0m, in \u001b[0;36mcheck_array\u001b[1;34m(array, accept_sparse, accept_large_sparse, dtype, order, copy, force_all_finite, ensure_2d, allow_nd, ensure_min_samples, ensure_min_features, estimator, input_name)\u001b[0m\n\u001b[0;32m    875\u001b[0m         array \u001b[39m=\u001b[39m xp\u001b[39m.\u001b[39mastype(array, dtype, copy\u001b[39m=\u001b[39m\u001b[39mFalse\u001b[39;00m)\n\u001b[0;32m    876\u001b[0m     \u001b[39melse\u001b[39;00m:\n\u001b[1;32m--> 877\u001b[0m         array \u001b[39m=\u001b[39m _asarray_with_order(array, order\u001b[39m=\u001b[39;49morder, dtype\u001b[39m=\u001b[39;49mdtype, xp\u001b[39m=\u001b[39;49mxp)\n\u001b[0;32m    878\u001b[0m \u001b[39mexcept\u001b[39;00m ComplexWarning \u001b[39mas\u001b[39;00m complex_warning:\n\u001b[0;32m    879\u001b[0m     \u001b[39mraise\u001b[39;00m \u001b[39mValueError\u001b[39;00m(\n\u001b[0;32m    880\u001b[0m         \u001b[39m\"\u001b[39m\u001b[39mComplex data not supported\u001b[39m\u001b[39m\\n\u001b[39;00m\u001b[39m{}\u001b[39;00m\u001b[39m\\n\u001b[39;00m\u001b[39m\"\u001b[39m\u001b[39m.\u001b[39mformat(array)\n\u001b[0;32m    881\u001b[0m     ) \u001b[39mfrom\u001b[39;00m \u001b[39mcomplex_warning\u001b[39;00m\n",
      "File \u001b[1;32mc:\\Users\\Reyhan\\AppData\\Local\\Programs\\Python\\Python39\\lib\\site-packages\\sklearn\\utils\\_array_api.py:185\u001b[0m, in \u001b[0;36m_asarray_with_order\u001b[1;34m(array, dtype, order, copy, xp)\u001b[0m\n\u001b[0;32m    182\u001b[0m     xp, _ \u001b[39m=\u001b[39m get_namespace(array)\n\u001b[0;32m    183\u001b[0m \u001b[39mif\u001b[39;00m xp\u001b[39m.\u001b[39m\u001b[39m__name__\u001b[39m \u001b[39min\u001b[39;00m {\u001b[39m\"\u001b[39m\u001b[39mnumpy\u001b[39m\u001b[39m\"\u001b[39m, \u001b[39m\"\u001b[39m\u001b[39mnumpy.array_api\u001b[39m\u001b[39m\"\u001b[39m}:\n\u001b[0;32m    184\u001b[0m     \u001b[39m# Use NumPy API to support order\u001b[39;00m\n\u001b[1;32m--> 185\u001b[0m     array \u001b[39m=\u001b[39m numpy\u001b[39m.\u001b[39;49masarray(array, order\u001b[39m=\u001b[39;49morder, dtype\u001b[39m=\u001b[39;49mdtype)\n\u001b[0;32m    186\u001b[0m     \u001b[39mreturn\u001b[39;00m xp\u001b[39m.\u001b[39masarray(array, copy\u001b[39m=\u001b[39mcopy)\n\u001b[0;32m    187\u001b[0m \u001b[39melse\u001b[39;00m:\n",
      "\u001b[1;31mValueError\u001b[0m: could not convert string to float: 'Iris-setosa'"
     ]
    }
   ],
   "source": [
    "kmeans = KMeans(n_clusters=2)\n",
    "kmeans.fit(X)"
   ]
  },
  {
   "cell_type": "code",
   "execution_count": 30,
   "metadata": {},
   "outputs": [
    {
     "ename": "AttributeError",
     "evalue": "'KMeans' object has no attribute 'cluster'",
     "output_type": "error",
     "traceback": [
      "\u001b[1;31m---------------------------------------------------------------------------\u001b[0m",
      "\u001b[1;31mAttributeError\u001b[0m                            Traceback (most recent call last)",
      "Cell \u001b[1;32mIn[30], line 1\u001b[0m\n\u001b[1;32m----> 1\u001b[0m \u001b[39mprint\u001b[39m(kmeans\u001b[39m.\u001b[39;49mcluster)\n",
      "\u001b[1;31mAttributeError\u001b[0m: 'KMeans' object has no attribute 'cluster'"
     ]
    }
   ],
   "source": [
    "print(kmeans.cluster)"
   ]
  },
  {
   "cell_type": "code",
   "execution_count": 31,
   "metadata": {},
   "outputs": [
    {
     "ename": "AttributeError",
     "evalue": "'KMeans' object has no attribute 'labels_'",
     "output_type": "error",
     "traceback": [
      "\u001b[1;31m---------------------------------------------------------------------------\u001b[0m",
      "\u001b[1;31mAttributeError\u001b[0m                            Traceback (most recent call last)",
      "Cell \u001b[1;32mIn[31], line 1\u001b[0m\n\u001b[1;32m----> 1\u001b[0m plt\u001b[39m.\u001b[39mscatter(X[:,\u001b[39m0\u001b[39m], X[:,\u001b[39m1\u001b[39m], c\u001b[39m=\u001b[39mkmeans\u001b[39m.\u001b[39;49mlabels_, cmap\u001b[39m=\u001b[39m\u001b[39m'\u001b[39m\u001b[39mrainbow\u001b[39m\u001b[39m'\u001b[39m)\n\u001b[0;32m      2\u001b[0m plt\u001b[39m.\u001b[39mxlabel(\u001b[39m\"\u001b[39m\u001b[39mId\u001b[39m\u001b[39m\"\u001b[39m)\n\u001b[0;32m      3\u001b[0m plt\u001b[39m.\u001b[39mylabel(\u001b[39m\"\u001b[39m\u001b[39mSepal Length Cm\u001b[39m\u001b[39m\"\u001b[39m)\n",
      "\u001b[1;31mAttributeError\u001b[0m: 'KMeans' object has no attribute 'labels_'"
     ]
    }
   ],
   "source": [
    "plt.scatter(X[:,0], X[:,1], c=kmeans.labels_, cmap='rainbow')\n",
    "plt.xlabel(\"Id\")\n",
    "plt.ylabel(\"Sepal Length Cm\")\n",
    "plt.title(\"Iris Species dan Ukurannya\")\n",
    "plt.show()"
   ]
  },
  {
   "cell_type": "code",
   "execution_count": null,
   "metadata": {},
   "outputs": [],
   "source": []
  }
 ],
 "metadata": {
  "kernelspec": {
   "display_name": "Python 3",
   "language": "python",
   "name": "python3"
  },
  "language_info": {
   "codemirror_mode": {
    "name": "ipython",
    "version": 3
   },
   "file_extension": ".py",
   "mimetype": "text/x-python",
   "name": "python",
   "nbconvert_exporter": "python",
   "pygments_lexer": "ipython3",
   "version": "3.9.0"
  },
  "orig_nbformat": 4
 },
 "nbformat": 4,
 "nbformat_minor": 2
}
